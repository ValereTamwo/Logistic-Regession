{
 "cells": [
  {
   "cell_type": "markdown",
   "id": "f354b440-81f4-4591-a172-6e4c8a2466fe",
   "metadata": {},
   "source": [
    "## ***ANALSING ADULT DATASET FOR LOGISTIC REGRESSION***"
   ]
  },
  {
   "cell_type": "markdown",
   "id": "d1f698b3-b68e-4aa3-9dc6-76899ec550ff",
   "metadata": {},
   "source": [
    "### **Goal : | Prediction task is to determine whether a person makes over 50K a year.**"
   ]
  },
  {
   "cell_type": "markdown",
   "id": "32e889ca-2805-4e02-a50f-73de5aa64ebe",
   "metadata": {},
   "source": [
    "### Participants : \n",
    "    *TAMWO FEUWO FRANCK VALERE 20U2837\n",
    "    * NGASSEU NDIFO LYSE PRISCILLE 20U2836\n",
    "    * BAHAOUDDYN 19M2565\n",
    "    * NCHOURUPOUO MOHANED 20U2593"
   ]
  },
  {
   "cell_type": "code",
   "execution_count": 1,
   "id": "e1ec1f30-db06-4b89-ba70-e35638478b03",
   "metadata": {},
   "outputs": [],
   "source": [
    "import pandas as pd\n",
    "import matplotlib.pyplot as plt \n",
    "import seaborn as sns\n",
    "import numpy as np"
   ]
  },
  {
   "cell_type": "code",
   "execution_count": 188,
   "id": "c8531bab-d703-40df-83c5-aaf53394afce",
   "metadata": {},
   "outputs": [],
   "source": [
    "data = pd.read_csv('https://docs.google.com/uc?export=download&id=1HvxTxffeE4RXhEFBje-DcNrblQKyOzIK')"
   ]
  },
  {
   "cell_type": "markdown",
   "id": "b1c9e475-7a9e-4f31-828c-342286c6f7b3",
   "metadata": {},
   "source": [
    "## DESCRIPTION DU JEU DE DONNES  : Adult.data\n",
    "\n",
    "### Le dataset que nous allons utiliser dans cet exercice est un dataset nomme \"adult \" . L'objectif ici est de predire\n",
    "### si le revenu d'une personne par an est superieur ou inferieur a 50 000$ par  an .\n"
   ]
  },
  {
   "cell_type": "markdown",
   "id": "9e8a1e99-38ef-4127-9464-8cda889aee30",
   "metadata": {},
   "source": [
    "### Informations sur les Attributs"
   ]
  },
  {
   "cell_type": "markdown",
   "id": "26fa46c4-995e-43e5-84bd-20424d30e4ed",
   "metadata": {},
   "source": [
    "- âge : continu \n",
    "-  classe de travail : Privé, Auto-emploi-pas-inc, Auto-emploi-inc, Fédéral-gouvernement, Local-gouvernement, État-gouvernement, Sans salaire, N'a jamais travaillé.\n",
    "- fnlwgt : continu.\n",
    "- Scolarité : Licence, Some-collège, 11ème, HS-grad, Prof-école, Assoc-acdm, Assoc-voc, 9ème, 7ème-8ème, 12ème, Master, 1ère-4ème, 10ème,        Doctorat, 5ème-6ème, Préscolaire.\n",
    "- education-num : continu.\n",
    "- état civil : Marié-civ-conjoint, Divorcé, Célibataire, Séparé, Veuf, Marié-conjoint-absent, Marié-AF-conjoint.\n",
    "- Occupation : Support technique, Artisanat-réparation, Autre service, Ventes, Cadre de direction, Prof-spécialité, Manutentionnaires-nettoyeurs, Machine-op-inspct, Adm-clerical, Agriculture-pêche, Transport-déménagement, Priv-house- serv, Protecteur-serv, Armed-Forces.\n",
    "- relation : Épouse, Propre enfant, Époux, Hors famille, Autre parent, Célibataire.\n",
    "- race : Blanc, Asiatique-Pac-Insulaire, Amer-Indien-Esquimau, Autre, Noir.       \n",
    "- sexe : Féminin, Masculin.\n",
    "- plus-value : continue.\n",
    "- moins-value : continue.\n",
    "- heures par semaine : en continu.\n",
    "- pays d'origine : États-Unis, Cambodge, Angleterre, Porto-Rico, Canada, Allemagne, Outlying-US (Guam-USVI-etc), Inde, Japon, Grèce, Sud, Chine, Cuba, Iran, Honduras, Philippines, Italie , Pologne, Jamaïque, Vietnam, Mexique, Portugal, Irlande, France, République-Dominicaine, Laos, Equateur, Taïwan, Haïti, Colombie, Hongrie, Guatemala, Nicaragua, Ecosse, Thaïlande, Yougoslavie, El-Salvador, Trinadad&Tobago, Pérou, Hong , Hollande-Pays-Bas."
   ]
  },
  {
   "cell_type": "markdown",
   "id": "f57648fc-b6a5-4340-9c18-c19b3f5f7eff",
   "metadata": {},
   "source": [
    "### **Preprocessing Data**"
   ]
  },
  {
   "cell_type": "markdown",
   "id": "910ba9ad-48d1-449e-a972-1c735726b3e1",
   "metadata": {},
   "source": [
    "### Adding Colnames to the Dataset"
   ]
  },
  {
   "cell_type": "code",
   "execution_count": 3,
   "id": "93779a41-f728-4e92-b76c-2b2a8a5ec9d7",
   "metadata": {},
   "outputs": [],
   "source": [
    "columns = [\n",
    "'age',\n",
    "'workclass',\n",
    "'fnlwgt',\n",
    "'education',\n",
    "'education-num',\n",
    "'marital-status',\n",
    "'occupation',\n",
    "'relationship',\n",
    "'race',\n",
    "'sex',\n",
    "'capital-gain',\n",
    "'capital-loss',\n",
    "'hours-per-week',\n",
    "'native-country','target']"
   ]
  },
  {
   "cell_type": "code",
   "execution_count": 4,
   "id": "8809d887-d506-4680-a043-8685ce50396b",
   "metadata": {},
   "outputs": [],
   "source": [
    "data.columns=columns"
   ]
  },
  {
   "cell_type": "code",
   "execution_count": 5,
   "id": "6fd47426-7e16-4d89-98e8-d46eac06f93c",
   "metadata": {},
   "outputs": [
    {
     "data": {
      "text/html": [
       "<div>\n",
       "<style scoped>\n",
       "    .dataframe tbody tr th:only-of-type {\n",
       "        vertical-align: middle;\n",
       "    }\n",
       "\n",
       "    .dataframe tbody tr th {\n",
       "        vertical-align: top;\n",
       "    }\n",
       "\n",
       "    .dataframe thead th {\n",
       "        text-align: right;\n",
       "    }\n",
       "</style>\n",
       "<table border=\"1\" class=\"dataframe\">\n",
       "  <thead>\n",
       "    <tr style=\"text-align: right;\">\n",
       "      <th></th>\n",
       "      <th>age</th>\n",
       "      <th>workclass</th>\n",
       "      <th>fnlwgt</th>\n",
       "      <th>education</th>\n",
       "      <th>education-num</th>\n",
       "      <th>marital-status</th>\n",
       "      <th>occupation</th>\n",
       "      <th>relationship</th>\n",
       "      <th>race</th>\n",
       "      <th>sex</th>\n",
       "      <th>capital-gain</th>\n",
       "      <th>capital-loss</th>\n",
       "      <th>hours-per-week</th>\n",
       "      <th>native-country</th>\n",
       "      <th>target</th>\n",
       "    </tr>\n",
       "  </thead>\n",
       "  <tbody>\n",
       "    <tr>\n",
       "      <th>0</th>\n",
       "      <td>50</td>\n",
       "      <td>Self-emp-not-inc</td>\n",
       "      <td>83311</td>\n",
       "      <td>Bachelors</td>\n",
       "      <td>13</td>\n",
       "      <td>Married-civ-spouse</td>\n",
       "      <td>Exec-managerial</td>\n",
       "      <td>Husband</td>\n",
       "      <td>White</td>\n",
       "      <td>Male</td>\n",
       "      <td>0</td>\n",
       "      <td>0</td>\n",
       "      <td>13</td>\n",
       "      <td>United-States</td>\n",
       "      <td>&lt;=50K</td>\n",
       "    </tr>\n",
       "    <tr>\n",
       "      <th>1</th>\n",
       "      <td>38</td>\n",
       "      <td>Private</td>\n",
       "      <td>215646</td>\n",
       "      <td>HS-grad</td>\n",
       "      <td>9</td>\n",
       "      <td>Divorced</td>\n",
       "      <td>Handlers-cleaners</td>\n",
       "      <td>Not-in-family</td>\n",
       "      <td>White</td>\n",
       "      <td>Male</td>\n",
       "      <td>0</td>\n",
       "      <td>0</td>\n",
       "      <td>40</td>\n",
       "      <td>United-States</td>\n",
       "      <td>&lt;=50K</td>\n",
       "    </tr>\n",
       "    <tr>\n",
       "      <th>2</th>\n",
       "      <td>53</td>\n",
       "      <td>Private</td>\n",
       "      <td>234721</td>\n",
       "      <td>11th</td>\n",
       "      <td>7</td>\n",
       "      <td>Married-civ-spouse</td>\n",
       "      <td>Handlers-cleaners</td>\n",
       "      <td>Husband</td>\n",
       "      <td>Black</td>\n",
       "      <td>Male</td>\n",
       "      <td>0</td>\n",
       "      <td>0</td>\n",
       "      <td>40</td>\n",
       "      <td>United-States</td>\n",
       "      <td>&lt;=50K</td>\n",
       "    </tr>\n",
       "    <tr>\n",
       "      <th>3</th>\n",
       "      <td>28</td>\n",
       "      <td>Private</td>\n",
       "      <td>338409</td>\n",
       "      <td>Bachelors</td>\n",
       "      <td>13</td>\n",
       "      <td>Married-civ-spouse</td>\n",
       "      <td>Prof-specialty</td>\n",
       "      <td>Wife</td>\n",
       "      <td>Black</td>\n",
       "      <td>Female</td>\n",
       "      <td>0</td>\n",
       "      <td>0</td>\n",
       "      <td>40</td>\n",
       "      <td>Cuba</td>\n",
       "      <td>&lt;=50K</td>\n",
       "    </tr>\n",
       "    <tr>\n",
       "      <th>4</th>\n",
       "      <td>37</td>\n",
       "      <td>Private</td>\n",
       "      <td>284582</td>\n",
       "      <td>Masters</td>\n",
       "      <td>14</td>\n",
       "      <td>Married-civ-spouse</td>\n",
       "      <td>Exec-managerial</td>\n",
       "      <td>Wife</td>\n",
       "      <td>White</td>\n",
       "      <td>Female</td>\n",
       "      <td>0</td>\n",
       "      <td>0</td>\n",
       "      <td>40</td>\n",
       "      <td>United-States</td>\n",
       "      <td>&lt;=50K</td>\n",
       "    </tr>\n",
       "  </tbody>\n",
       "</table>\n",
       "</div>"
      ],
      "text/plain": [
       "   age          workclass  fnlwgt   education  education-num  \\\n",
       "0   50   Self-emp-not-inc   83311   Bachelors             13   \n",
       "1   38            Private  215646     HS-grad              9   \n",
       "2   53            Private  234721        11th              7   \n",
       "3   28            Private  338409   Bachelors             13   \n",
       "4   37            Private  284582     Masters             14   \n",
       "\n",
       "        marital-status          occupation    relationship    race      sex  \\\n",
       "0   Married-civ-spouse     Exec-managerial         Husband   White     Male   \n",
       "1             Divorced   Handlers-cleaners   Not-in-family   White     Male   \n",
       "2   Married-civ-spouse   Handlers-cleaners         Husband   Black     Male   \n",
       "3   Married-civ-spouse      Prof-specialty            Wife   Black   Female   \n",
       "4   Married-civ-spouse     Exec-managerial            Wife   White   Female   \n",
       "\n",
       "   capital-gain  capital-loss  hours-per-week  native-country  target  \n",
       "0             0             0              13   United-States   <=50K  \n",
       "1             0             0              40   United-States   <=50K  \n",
       "2             0             0              40   United-States   <=50K  \n",
       "3             0             0              40            Cuba   <=50K  \n",
       "4             0             0              40   United-States   <=50K  "
      ]
     },
     "execution_count": 5,
     "metadata": {},
     "output_type": "execute_result"
    }
   ],
   "source": [
    "data.head(5)"
   ]
  },
  {
   "cell_type": "code",
   "execution_count": 6,
   "id": "b423ac1e-bd15-483d-87af-7b2b5ab7b4a8",
   "metadata": {},
   "outputs": [
    {
     "data": {
      "text/plain": [
       "(32560, 15)"
      ]
     },
     "execution_count": 6,
     "metadata": {},
     "output_type": "execute_result"
    }
   ],
   "source": [
    "data.to_csv('adult.csv')\n",
    "data.shape"
   ]
  },
  {
   "cell_type": "code",
   "execution_count": 7,
   "id": "f444f9c0-3e32-41ce-9555-dc6d3e7f728c",
   "metadata": {},
   "outputs": [
    {
     "name": "stdout",
     "output_type": "stream",
     "text": [
      "<class 'pandas.core.frame.DataFrame'>\n",
      "RangeIndex: 32560 entries, 0 to 32559\n",
      "Data columns (total 15 columns):\n",
      " #   Column          Non-Null Count  Dtype \n",
      "---  ------          --------------  ----- \n",
      " 0   age             32560 non-null  int64 \n",
      " 1   workclass       32560 non-null  object\n",
      " 2   fnlwgt          32560 non-null  int64 \n",
      " 3   education       32560 non-null  object\n",
      " 4   education-num   32560 non-null  int64 \n",
      " 5   marital-status  32560 non-null  object\n",
      " 6   occupation      32560 non-null  object\n",
      " 7   relationship    32560 non-null  object\n",
      " 8   race            32560 non-null  object\n",
      " 9   sex             32560 non-null  object\n",
      " 10  capital-gain    32560 non-null  int64 \n",
      " 11  capital-loss    32560 non-null  int64 \n",
      " 12  hours-per-week  32560 non-null  int64 \n",
      " 13  native-country  32560 non-null  object\n",
      " 14  target          32560 non-null  object\n",
      "dtypes: int64(6), object(9)\n",
      "memory usage: 3.7+ MB\n"
     ]
    }
   ],
   "source": [
    "data.info()"
   ]
  },
  {
   "cell_type": "markdown",
   "id": "dcdc2a99-9cfd-4a62-894d-3d0ef6901398",
   "metadata": {},
   "source": [
    "## Les donnees ne presentent pas de valeurs a NULL"
   ]
  },
  {
   "cell_type": "code",
   "execution_count": 8,
   "id": "fb0edaa1-5af1-45a5-b78b-1d9a886261ae",
   "metadata": {},
   "outputs": [
    {
     "data": {
      "text/html": [
       "<div>\n",
       "<style scoped>\n",
       "    .dataframe tbody tr th:only-of-type {\n",
       "        vertical-align: middle;\n",
       "    }\n",
       "\n",
       "    .dataframe tbody tr th {\n",
       "        vertical-align: top;\n",
       "    }\n",
       "\n",
       "    .dataframe thead th {\n",
       "        text-align: right;\n",
       "    }\n",
       "</style>\n",
       "<table border=\"1\" class=\"dataframe\">\n",
       "  <thead>\n",
       "    <tr style=\"text-align: right;\">\n",
       "      <th></th>\n",
       "      <th>age</th>\n",
       "      <th>fnlwgt</th>\n",
       "      <th>education-num</th>\n",
       "      <th>capital-gain</th>\n",
       "      <th>capital-loss</th>\n",
       "      <th>hours-per-week</th>\n",
       "    </tr>\n",
       "  </thead>\n",
       "  <tbody>\n",
       "    <tr>\n",
       "      <th>count</th>\n",
       "      <td>32560.000000</td>\n",
       "      <td>3.256000e+04</td>\n",
       "      <td>32560.000000</td>\n",
       "      <td>32560.000000</td>\n",
       "      <td>32560.000000</td>\n",
       "      <td>32560.000000</td>\n",
       "    </tr>\n",
       "    <tr>\n",
       "      <th>mean</th>\n",
       "      <td>38.581634</td>\n",
       "      <td>1.897818e+05</td>\n",
       "      <td>10.080590</td>\n",
       "      <td>1077.615172</td>\n",
       "      <td>87.306511</td>\n",
       "      <td>40.437469</td>\n",
       "    </tr>\n",
       "    <tr>\n",
       "      <th>std</th>\n",
       "      <td>13.640642</td>\n",
       "      <td>1.055498e+05</td>\n",
       "      <td>2.572709</td>\n",
       "      <td>7385.402999</td>\n",
       "      <td>402.966116</td>\n",
       "      <td>12.347618</td>\n",
       "    </tr>\n",
       "    <tr>\n",
       "      <th>min</th>\n",
       "      <td>17.000000</td>\n",
       "      <td>1.228500e+04</td>\n",
       "      <td>1.000000</td>\n",
       "      <td>0.000000</td>\n",
       "      <td>0.000000</td>\n",
       "      <td>1.000000</td>\n",
       "    </tr>\n",
       "    <tr>\n",
       "      <th>25%</th>\n",
       "      <td>28.000000</td>\n",
       "      <td>1.178315e+05</td>\n",
       "      <td>9.000000</td>\n",
       "      <td>0.000000</td>\n",
       "      <td>0.000000</td>\n",
       "      <td>40.000000</td>\n",
       "    </tr>\n",
       "    <tr>\n",
       "      <th>50%</th>\n",
       "      <td>37.000000</td>\n",
       "      <td>1.783630e+05</td>\n",
       "      <td>10.000000</td>\n",
       "      <td>0.000000</td>\n",
       "      <td>0.000000</td>\n",
       "      <td>40.000000</td>\n",
       "    </tr>\n",
       "    <tr>\n",
       "      <th>75%</th>\n",
       "      <td>48.000000</td>\n",
       "      <td>2.370545e+05</td>\n",
       "      <td>12.000000</td>\n",
       "      <td>0.000000</td>\n",
       "      <td>0.000000</td>\n",
       "      <td>45.000000</td>\n",
       "    </tr>\n",
       "    <tr>\n",
       "      <th>max</th>\n",
       "      <td>90.000000</td>\n",
       "      <td>1.484705e+06</td>\n",
       "      <td>16.000000</td>\n",
       "      <td>99999.000000</td>\n",
       "      <td>4356.000000</td>\n",
       "      <td>99.000000</td>\n",
       "    </tr>\n",
       "  </tbody>\n",
       "</table>\n",
       "</div>"
      ],
      "text/plain": [
       "                age        fnlwgt  education-num  capital-gain  capital-loss  \\\n",
       "count  32560.000000  3.256000e+04   32560.000000  32560.000000  32560.000000   \n",
       "mean      38.581634  1.897818e+05      10.080590   1077.615172     87.306511   \n",
       "std       13.640642  1.055498e+05       2.572709   7385.402999    402.966116   \n",
       "min       17.000000  1.228500e+04       1.000000      0.000000      0.000000   \n",
       "25%       28.000000  1.178315e+05       9.000000      0.000000      0.000000   \n",
       "50%       37.000000  1.783630e+05      10.000000      0.000000      0.000000   \n",
       "75%       48.000000  2.370545e+05      12.000000      0.000000      0.000000   \n",
       "max       90.000000  1.484705e+06      16.000000  99999.000000   4356.000000   \n",
       "\n",
       "       hours-per-week  \n",
       "count    32560.000000  \n",
       "mean        40.437469  \n",
       "std         12.347618  \n",
       "min          1.000000  \n",
       "25%         40.000000  \n",
       "50%         40.000000  \n",
       "75%         45.000000  \n",
       "max         99.000000  "
      ]
     },
     "execution_count": 8,
     "metadata": {},
     "output_type": "execute_result"
    }
   ],
   "source": [
    "data.describe()"
   ]
  },
  {
   "cell_type": "code",
   "execution_count": null,
   "id": "a35e4b59-d635-471f-a7e5-27fd536ee474",
   "metadata": {},
   "outputs": [],
   "source": []
  },
  {
   "cell_type": "code",
   "execution_count": 9,
   "id": "9b0641b4-2f68-429d-bf4a-fe8cfbcdcb1e",
   "metadata": {},
   "outputs": [],
   "source": [
    "def check_categorical_var_unique_value(data,*args):\n",
    "    \"\"\"\"\n",
    "    Cette fonction recupere chaque attribut categorielle du jeu de donnees passe en parametre  et met en sortie\n",
    "    ses  differents niveaux et le nombre d'occurence par niveau\n",
    "    \"\"\"\n",
    "    data = data.loc[:,data.dtypes == 'object']\n",
    "    colnames = list(data.columns)\n",
    "    unique_cate_values = {col:list(data[col].unique())for col in colnames}\n",
    "    total_number_item_per_category = {col:data[col].value_counts() for col in colnames}\n",
    "    return(unique_cate_values,total_number_item_per_category)"
   ]
  },
  {
   "cell_type": "code",
   "execution_count": 10,
   "id": "f9437d31-474e-4b09-a554-a51d7a2f29f0",
   "metadata": {},
   "outputs": [],
   "source": [
    "unique_level_from_cat_var , total_per_cat_level = check_categorical_var_unique_value(data)"
   ]
  },
  {
   "cell_type": "code",
   "execution_count": 11,
   "id": "069ec46b-bc00-4d5a-9c54-28ccc7c644f1",
   "metadata": {},
   "outputs": [
    {
     "data": {
      "image/png": "[encoded data removed]",
      "text/plain": [
       "<Figure size 1440x1080 with 9 Axes>"
      ]
     },
     "metadata": {
      "needs_background": "light"
     },
     "output_type": "display_data"
    }
   ],
   "source": [
    "\"\"\"\n",
    "    le Diagramme a bar pour  repartition des differentes niveau de variables Categorielles\n",
    "\"\"\"\n",
    "fig , axes = plt.subplots(3,3,figsize=(20,15))\n",
    "k=0\n",
    "cat_col = list(unique_level_from_cat_var.keys())\n",
    "for i in range(3):\n",
    "    for j in range(3):\n",
    "        total_per_cat_level[cat_col[k]].plot(kind='bar',ax=axes[i,j])    \n",
    "        axes[i,j].set_title(cat_col[k])\n",
    "        k+=1\n",
    "plt.suptitle('Distribution Des Variables Categorielles Suivant Les Niveaux de valeurs')\n",
    "fig.savefig('cat_distribution.png')"
   ]
  },
  {
   "cell_type": "markdown",
   "id": "9ed6dc3e-999d-4b4f-ad7b-28ca5c811ca4",
   "metadata": {},
   "source": [
    "## Cette figure represente la  distribution des variables categorielles suivant les niveaux de valeurs .\n",
    "\n",
    "### On constate que :\n",
    "* les personnes touchant un revenu de moins de 50k sont plus nombreux \n",
    "* Plus de personnes sont maries en union legal \n",
    "* On remarque une distribution tres desequilibree pour les races , avec la race **Blanche** qui domine\n",
    "* les donnees ont principalement ete recueillis aux Etats Unis\n",
    "* le secteur du privee est le plus rencontree parmis"
   ]
  },
  {
   "cell_type": "markdown",
   "id": "53bef836-348d-476d-9261-df7ee0cb8fbd",
   "metadata": {},
   "source": [
    "### ***Quel est principalemenent le pays des personnes ayant un salaire inferieure a 50k l'annee ?***\n",
    "### ***Quel lien existe -il entre le niveau d'education et le status maretal?***\n",
    "### ***Quel lien existe -il entre l'oreilles  et le status maretal?***\n",
    "### **Quel es le principal secteur d'activite qui paye le plus?**"
   ]
  },
  {
   "cell_type": "code",
   "execution_count": 12,
   "id": "962251f3-6331-4ac4-9833-2fd84bd17ac6",
   "metadata": {},
   "outputs": [
    {
     "data": {
      "text/plain": [
       "<AxesSubplot:>"
      ]
     },
     "execution_count": 12,
     "metadata": {},
     "output_type": "execute_result"
    },
    {
     "data": {
      "image/png": "[encoded data removed]",
      "text/plain": [
       "<Figure size 432x288 with 1 Axes>"
      ]
     },
     "metadata": {
      "needs_background": "light"
     },
     "output_type": "display_data"
    }
   ],
   "source": [
    "\"\"\"\n",
    "country_name vs target <=50k\n",
    "\n",
    "\"\"\"\n",
    "country_target_inf_50 = data[data['target']==f\"{data['target'][0]}\"]\n",
    "country_target_inf_50['native-country'].value_counts().plot(kind='bar')"
   ]
  },
  {
   "cell_type": "markdown",
   "id": "762447d3-d956-4eda-8c55-ca179efb99d0",
   "metadata": {},
   "source": [
    "## le pays ou le salaire annuel n'atteint pas majoritairement 50k est : **United-States**"
   ]
  },
  {
   "cell_type": "code",
   "execution_count": 13,
   "id": "18f53da6-4708-4d41-abba-3b4d31e30169",
   "metadata": {},
   "outputs": [
    {
     "data": {
      "text/plain": [
       "<AxesSubplot:>"
      ]
     },
     "execution_count": 13,
     "metadata": {},
     "output_type": "execute_result"
    },
    {
     "data": {
      "image/png": "[encoded data removed]",
      "text/plain": [
       "<Figure size 432x288 with 1 Axes>"
      ]
     },
     "metadata": {
      "needs_background": "light"
     },
     "output_type": "display_data"
    }
   ],
   "source": [
    "country_target_sup_50 = data[data['target']==f\"{data['target'][6]}\"]\n",
    "country_target_sup_50['native-country'].value_counts().plot(kind='bar')"
   ]
  },
  {
   "cell_type": "markdown",
   "id": "fae64e75-877a-4388-81e1-790734af46a3",
   "metadata": {},
   "source": [
    "#### ***Quel lien existe -il entre le niveau d'education et le status maretal?***"
   ]
  },
  {
   "cell_type": "code",
   "execution_count": 14,
   "id": "772498a2-2b69-4b36-a101-6eebf124dccc",
   "metadata": {},
   "outputs": [
    {
     "data": {
      "text/plain": [
       "marital-status       education    \n",
       " Married-civ-spouse   HS-grad         4845\n",
       " Never-married        HS-grad         3089\n",
       "                      Some-college    2933\n",
       " Married-civ-spouse   Some-college    2818\n",
       "                      Bachelors       2768\n",
       "                                      ... \n",
       " Widowed              Preschool          3\n",
       " Married-AF-spouse    Assoc-acdm         2\n",
       " Separated            Preschool          1\n",
       " Married-AF-spouse    Assoc-voc          1\n",
       " Divorced             Preschool          1\n",
       "Name: education, Length: 101, dtype: int64"
      ]
     },
     "execution_count": 14,
     "metadata": {},
     "output_type": "execute_result"
    }
   ],
   "source": [
    "education_maretal = data.groupby('marital-status')['education'].value_counts().sort_values(ascending=False)\n",
    "education_maretal"
   ]
  },
  {
   "cell_type": "markdown",
   "id": "2b5e87b3-065f-4851-867e-09d417629a3f",
   "metadata": {},
   "source": [
    "## ***Distribution des variables Numeriques***"
   ]
  },
  {
   "cell_type": "code",
   "execution_count": 15,
   "id": "70a202ab-1cfd-4a51-bc3a-58bc0b60dd69",
   "metadata": {},
   "outputs": [],
   "source": [
    " num_data = data.loc[:,np.logical_or(data.dtypes == 'int64',data.dtypes == 'float64')]"
   ]
  },
  {
   "cell_type": "code",
   "execution_count": 17,
   "id": "36fe724d-9452-4884-b0b0-3c8fd32ebd76",
   "metadata": {},
   "outputs": [
    {
     "data": {
      "text/html": [
       "<div>\n",
       "<style scoped>\n",
       "    .dataframe tbody tr th:only-of-type {\n",
       "        vertical-align: middle;\n",
       "    }\n",
       "\n",
       "    .dataframe tbody tr th {\n",
       "        vertical-align: top;\n",
       "    }\n",
       "\n",
       "    .dataframe thead th {\n",
       "        text-align: right;\n",
       "    }\n",
       "</style>\n",
       "<table border=\"1\" class=\"dataframe\">\n",
       "  <thead>\n",
       "    <tr style=\"text-align: right;\">\n",
       "      <th></th>\n",
       "      <th>age</th>\n",
       "      <th>fnlwgt</th>\n",
       "      <th>education-num</th>\n",
       "      <th>capital-gain</th>\n",
       "      <th>capital-loss</th>\n",
       "      <th>hours-per-week</th>\n",
       "    </tr>\n",
       "  </thead>\n",
       "  <tbody>\n",
       "    <tr>\n",
       "      <th>0</th>\n",
       "      <td>50</td>\n",
       "      <td>83311</td>\n",
       "      <td>13</td>\n",
       "      <td>0</td>\n",
       "      <td>0</td>\n",
       "      <td>13</td>\n",
       "    </tr>\n",
       "    <tr>\n",
       "      <th>1</th>\n",
       "      <td>38</td>\n",
       "      <td>215646</td>\n",
       "      <td>9</td>\n",
       "      <td>0</td>\n",
       "      <td>0</td>\n",
       "      <td>40</td>\n",
       "    </tr>\n",
       "    <tr>\n",
       "      <th>2</th>\n",
       "      <td>53</td>\n",
       "      <td>234721</td>\n",
       "      <td>7</td>\n",
       "      <td>0</td>\n",
       "      <td>0</td>\n",
       "      <td>40</td>\n",
       "    </tr>\n",
       "    <tr>\n",
       "      <th>3</th>\n",
       "      <td>28</td>\n",
       "      <td>338409</td>\n",
       "      <td>13</td>\n",
       "      <td>0</td>\n",
       "      <td>0</td>\n",
       "      <td>40</td>\n",
       "    </tr>\n",
       "    <tr>\n",
       "      <th>4</th>\n",
       "      <td>37</td>\n",
       "      <td>284582</td>\n",
       "      <td>14</td>\n",
       "      <td>0</td>\n",
       "      <td>0</td>\n",
       "      <td>40</td>\n",
       "    </tr>\n",
       "  </tbody>\n",
       "</table>\n",
       "</div>"
      ],
      "text/plain": [
       "   age  fnlwgt  education-num  capital-gain  capital-loss  hours-per-week\n",
       "0   50   83311             13             0             0              13\n",
       "1   38  215646              9             0             0              40\n",
       "2   53  234721              7             0             0              40\n",
       "3   28  338409             13             0             0              40\n",
       "4   37  284582             14             0             0              40"
      ]
     },
     "execution_count": 17,
     "metadata": {},
     "output_type": "execute_result"
    }
   ],
   "source": [
    "num_data.head(5)"
   ]
  },
  {
   "cell_type": "code",
   "execution_count": 19,
   "id": "f2fac8aa-0f89-44b9-b061-4a5c0fed0380",
   "metadata": {},
   "outputs": [
    {
     "data": {
      "image/png": "[encoded data removed]",
      "text/plain": [
       "<Figure size 1008x576 with 6 Axes>"
      ]
     },
     "metadata": {
      "needs_background": "light"
     },
     "output_type": "display_data"
    }
   ],
   "source": [
    "fig,ax=plt.subplots(3,2,figsize=(14,8))\n",
    "k=0\n",
    "for i in range(3):\n",
    "     for j in range(2):\n",
    "        ax[i,j].hist(num_data[num_data.columns[k]])\n",
    "        ax[i,j].set_title(num_data.columns[k])\n",
    "        k=k+1\n",
    "fig.savefig('num_dis.png')"
   ]
  },
  {
   "cell_type": "markdown",
   "id": "1daafef7-879e-48c4-ab10-bdf985474485",
   "metadata": {},
   "source": [
    "## Observations : \n",
    "## * La colonne ***Capital-loss*** a enormement de values a 0 , donc elle sera supprime , pareil pour ***capital-gain***\n",
    "## les donnees ne suivent pas de distribution connue  (Uniforme , normal ,....) , elles sont desequilibrees"
   ]
  },
  {
   "cell_type": "code",
   "execution_count": 29,
   "id": "d43e7e90-91eb-44fc-9c87-5459a2893373",
   "metadata": {},
   "outputs": [],
   "source": [
    "# data = data.drop(['capital-loss','capital-gain'] , axis=1)\n",
    "# num_data = num_data.drop(['capital-loss','capital-gain'] , axis=1)"
   ]
  },
  {
   "cell_type": "code",
   "execution_count": 34,
   "id": "487b2067-095d-4194-a953-2fb20a8c84b6",
   "metadata": {},
   "outputs": [],
   "source": [
    "# num_data = num_data.drop(['capital-loss','capital-gain'] , axis=1)"
   ]
  },
  {
   "cell_type": "code",
   "execution_count": 40,
   "id": "39770c4d-ae6c-477d-a4a1-12913a888e3f",
   "metadata": {},
   "outputs": [
    {
     "data": {
      "text/plain": [
       "<matplotlib.collections.PathCollection at 0x7f407708a4f0>"
      ]
     },
     "execution_count": 40,
     "metadata": {},
     "output_type": "execute_result"
    },
    {
     "data": {
      "image/png": "[encoded data removed]",
      "text/plain": [
       "<Figure size 864x576 with 1 Axes>"
      ]
     },
     "metadata": {
      "needs_background": "light"
     },
     "output_type": "display_data"
    }
   ],
   "source": [
    "fig, ax = plt.subplots(figsize=(12,8))\n",
    "ax.scatter(num_data['fnlwgt'],num_data['education-num'])\n",
    "# ax.scatter(num_data['age'],num_data['fnlwgt'] ,sharey=True)"
   ]
  },
  {
   "cell_type": "markdown",
   "id": "83418bf8-9868-486f-acbf-9485a5f0ed80",
   "metadata": {},
   "source": [
    "## Transformation  Des  Variables  Categorielles  "
   ]
  },
  {
   "cell_type": "markdown",
   "id": "3c81706c-98d8-46da-8568-06c200501d09",
   "metadata": {},
   "source": [
    "### ***la transformation ici consiste a creer de nouvelles variables explicatives en se basant les differents niveau de chaque categories***"
   ]
  },
  {
   "cell_type": "code",
   "execution_count": 46,
   "id": "1a4477d9-37f7-43e5-a482-531e8f86e3b6",
   "metadata": {},
   "outputs": [],
   "source": [
    "data = pd.get_dummies(data,columns=[col for col in cat_col if col !='target' ])"
   ]
  },
  {
   "cell_type": "code",
   "execution_count": 167,
   "id": "125e5498-e47a-4b46-adc1-0de5df866533",
   "metadata": {},
   "outputs": [
    {
     "data": {
      "text/html": [
       "<div>\n",
       "<style scoped>\n",
       "    .dataframe tbody tr th:only-of-type {\n",
       "        vertical-align: middle;\n",
       "    }\n",
       "\n",
       "    .dataframe tbody tr th {\n",
       "        vertical-align: top;\n",
       "    }\n",
       "\n",
       "    .dataframe thead th {\n",
       "        text-align: right;\n",
       "    }\n",
       "</style>\n",
       "<table border=\"1\" class=\"dataframe\">\n",
       "  <thead>\n",
       "    <tr style=\"text-align: right;\">\n",
       "      <th></th>\n",
       "      <th>age</th>\n",
       "      <th>fnlwgt</th>\n",
       "      <th>education-num</th>\n",
       "      <th>hours-per-week</th>\n",
       "      <th>target</th>\n",
       "      <th>workclass_ Federal-gov</th>\n",
       "      <th>workclass_ Local-gov</th>\n",
       "      <th>workclass_ Never-worked</th>\n",
       "      <th>workclass_ Private</th>\n",
       "      <th>workclass_ Self-emp-inc</th>\n",
       "      <th>...</th>\n",
       "      <th>native-country_ Portugal</th>\n",
       "      <th>native-country_ Puerto-Rico</th>\n",
       "      <th>native-country_ Scotland</th>\n",
       "      <th>native-country_ South</th>\n",
       "      <th>native-country_ Taiwan</th>\n",
       "      <th>native-country_ Thailand</th>\n",
       "      <th>native-country_ Trinadad&amp;Tobago</th>\n",
       "      <th>native-country_ United-States</th>\n",
       "      <th>native-country_ Vietnam</th>\n",
       "      <th>native-country_ Yugoslavia</th>\n",
       "    </tr>\n",
       "  </thead>\n",
       "  <tbody>\n",
       "    <tr>\n",
       "      <th>0</th>\n",
       "      <td>50</td>\n",
       "      <td>83311</td>\n",
       "      <td>13</td>\n",
       "      <td>13</td>\n",
       "      <td>0</td>\n",
       "      <td>0</td>\n",
       "      <td>0</td>\n",
       "      <td>0</td>\n",
       "      <td>0</td>\n",
       "      <td>0</td>\n",
       "      <td>...</td>\n",
       "      <td>0</td>\n",
       "      <td>0</td>\n",
       "      <td>0</td>\n",
       "      <td>0</td>\n",
       "      <td>0</td>\n",
       "      <td>0</td>\n",
       "      <td>0</td>\n",
       "      <td>1</td>\n",
       "      <td>0</td>\n",
       "      <td>0</td>\n",
       "    </tr>\n",
       "    <tr>\n",
       "      <th>1</th>\n",
       "      <td>38</td>\n",
       "      <td>215646</td>\n",
       "      <td>9</td>\n",
       "      <td>40</td>\n",
       "      <td>0</td>\n",
       "      <td>0</td>\n",
       "      <td>0</td>\n",
       "      <td>0</td>\n",
       "      <td>1</td>\n",
       "      <td>0</td>\n",
       "      <td>...</td>\n",
       "      <td>0</td>\n",
       "      <td>0</td>\n",
       "      <td>0</td>\n",
       "      <td>0</td>\n",
       "      <td>0</td>\n",
       "      <td>0</td>\n",
       "      <td>0</td>\n",
       "      <td>1</td>\n",
       "      <td>0</td>\n",
       "      <td>0</td>\n",
       "    </tr>\n",
       "    <tr>\n",
       "      <th>2</th>\n",
       "      <td>53</td>\n",
       "      <td>234721</td>\n",
       "      <td>7</td>\n",
       "      <td>40</td>\n",
       "      <td>0</td>\n",
       "      <td>0</td>\n",
       "      <td>0</td>\n",
       "      <td>0</td>\n",
       "      <td>1</td>\n",
       "      <td>0</td>\n",
       "      <td>...</td>\n",
       "      <td>0</td>\n",
       "      <td>0</td>\n",
       "      <td>0</td>\n",
       "      <td>0</td>\n",
       "      <td>0</td>\n",
       "      <td>0</td>\n",
       "      <td>0</td>\n",
       "      <td>1</td>\n",
       "      <td>0</td>\n",
       "      <td>0</td>\n",
       "    </tr>\n",
       "    <tr>\n",
       "      <th>3</th>\n",
       "      <td>28</td>\n",
       "      <td>338409</td>\n",
       "      <td>13</td>\n",
       "      <td>40</td>\n",
       "      <td>0</td>\n",
       "      <td>0</td>\n",
       "      <td>0</td>\n",
       "      <td>0</td>\n",
       "      <td>1</td>\n",
       "      <td>0</td>\n",
       "      <td>...</td>\n",
       "      <td>0</td>\n",
       "      <td>0</td>\n",
       "      <td>0</td>\n",
       "      <td>0</td>\n",
       "      <td>0</td>\n",
       "      <td>0</td>\n",
       "      <td>0</td>\n",
       "      <td>0</td>\n",
       "      <td>0</td>\n",
       "      <td>0</td>\n",
       "    </tr>\n",
       "    <tr>\n",
       "      <th>4</th>\n",
       "      <td>37</td>\n",
       "      <td>284582</td>\n",
       "      <td>14</td>\n",
       "      <td>40</td>\n",
       "      <td>0</td>\n",
       "      <td>0</td>\n",
       "      <td>0</td>\n",
       "      <td>0</td>\n",
       "      <td>1</td>\n",
       "      <td>0</td>\n",
       "      <td>...</td>\n",
       "      <td>0</td>\n",
       "      <td>0</td>\n",
       "      <td>0</td>\n",
       "      <td>0</td>\n",
       "      <td>0</td>\n",
       "      <td>0</td>\n",
       "      <td>0</td>\n",
       "      <td>1</td>\n",
       "      <td>0</td>\n",
       "      <td>0</td>\n",
       "    </tr>\n",
       "    <tr>\n",
       "      <th>...</th>\n",
       "      <td>...</td>\n",
       "      <td>...</td>\n",
       "      <td>...</td>\n",
       "      <td>...</td>\n",
       "      <td>...</td>\n",
       "      <td>...</td>\n",
       "      <td>...</td>\n",
       "      <td>...</td>\n",
       "      <td>...</td>\n",
       "      <td>...</td>\n",
       "      <td>...</td>\n",
       "      <td>...</td>\n",
       "      <td>...</td>\n",
       "      <td>...</td>\n",
       "      <td>...</td>\n",
       "      <td>...</td>\n",
       "      <td>...</td>\n",
       "      <td>...</td>\n",
       "      <td>...</td>\n",
       "      <td>...</td>\n",
       "      <td>...</td>\n",
       "    </tr>\n",
       "    <tr>\n",
       "      <th>32555</th>\n",
       "      <td>27</td>\n",
       "      <td>257302</td>\n",
       "      <td>12</td>\n",
       "      <td>38</td>\n",
       "      <td>0</td>\n",
       "      <td>0</td>\n",
       "      <td>0</td>\n",
       "      <td>0</td>\n",
       "      <td>1</td>\n",
       "      <td>0</td>\n",
       "      <td>...</td>\n",
       "      <td>0</td>\n",
       "      <td>0</td>\n",
       "      <td>0</td>\n",
       "      <td>0</td>\n",
       "      <td>0</td>\n",
       "      <td>0</td>\n",
       "      <td>0</td>\n",
       "      <td>1</td>\n",
       "      <td>0</td>\n",
       "      <td>0</td>\n",
       "    </tr>\n",
       "    <tr>\n",
       "      <th>32556</th>\n",
       "      <td>40</td>\n",
       "      <td>154374</td>\n",
       "      <td>9</td>\n",
       "      <td>40</td>\n",
       "      <td>1</td>\n",
       "      <td>0</td>\n",
       "      <td>0</td>\n",
       "      <td>0</td>\n",
       "      <td>1</td>\n",
       "      <td>0</td>\n",
       "      <td>...</td>\n",
       "      <td>0</td>\n",
       "      <td>0</td>\n",
       "      <td>0</td>\n",
       "      <td>0</td>\n",
       "      <td>0</td>\n",
       "      <td>0</td>\n",
       "      <td>0</td>\n",
       "      <td>1</td>\n",
       "      <td>0</td>\n",
       "      <td>0</td>\n",
       "    </tr>\n",
       "    <tr>\n",
       "      <th>32557</th>\n",
       "      <td>58</td>\n",
       "      <td>151910</td>\n",
       "      <td>9</td>\n",
       "      <td>40</td>\n",
       "      <td>0</td>\n",
       "      <td>0</td>\n",
       "      <td>0</td>\n",
       "      <td>0</td>\n",
       "      <td>1</td>\n",
       "      <td>0</td>\n",
       "      <td>...</td>\n",
       "      <td>0</td>\n",
       "      <td>0</td>\n",
       "      <td>0</td>\n",
       "      <td>0</td>\n",
       "      <td>0</td>\n",
       "      <td>0</td>\n",
       "      <td>0</td>\n",
       "      <td>1</td>\n",
       "      <td>0</td>\n",
       "      <td>0</td>\n",
       "    </tr>\n",
       "    <tr>\n",
       "      <th>32558</th>\n",
       "      <td>22</td>\n",
       "      <td>201490</td>\n",
       "      <td>9</td>\n",
       "      <td>20</td>\n",
       "      <td>0</td>\n",
       "      <td>0</td>\n",
       "      <td>0</td>\n",
       "      <td>0</td>\n",
       "      <td>1</td>\n",
       "      <td>0</td>\n",
       "      <td>...</td>\n",
       "      <td>0</td>\n",
       "      <td>0</td>\n",
       "      <td>0</td>\n",
       "      <td>0</td>\n",
       "      <td>0</td>\n",
       "      <td>0</td>\n",
       "      <td>0</td>\n",
       "      <td>1</td>\n",
       "      <td>0</td>\n",
       "      <td>0</td>\n",
       "    </tr>\n",
       "    <tr>\n",
       "      <th>32559</th>\n",
       "      <td>52</td>\n",
       "      <td>287927</td>\n",
       "      <td>9</td>\n",
       "      <td>40</td>\n",
       "      <td>1</td>\n",
       "      <td>0</td>\n",
       "      <td>0</td>\n",
       "      <td>0</td>\n",
       "      <td>0</td>\n",
       "      <td>1</td>\n",
       "      <td>...</td>\n",
       "      <td>0</td>\n",
       "      <td>0</td>\n",
       "      <td>0</td>\n",
       "      <td>0</td>\n",
       "      <td>0</td>\n",
       "      <td>0</td>\n",
       "      <td>0</td>\n",
       "      <td>1</td>\n",
       "      <td>0</td>\n",
       "      <td>0</td>\n",
       "    </tr>\n",
       "  </tbody>\n",
       "</table>\n",
       "<p>32560 rows × 106 columns</p>\n",
       "</div>"
      ],
      "text/plain": [
       "       age  fnlwgt  education-num  hours-per-week  target  \\\n",
       "0       50   83311             13              13       0   \n",
       "1       38  215646              9              40       0   \n",
       "2       53  234721              7              40       0   \n",
       "3       28  338409             13              40       0   \n",
       "4       37  284582             14              40       0   \n",
       "...    ...     ...            ...             ...     ...   \n",
       "32555   27  257302             12              38       0   \n",
       "32556   40  154374              9              40       1   \n",
       "32557   58  151910              9              40       0   \n",
       "32558   22  201490              9              20       0   \n",
       "32559   52  287927              9              40       1   \n",
       "\n",
       "       workclass_ Federal-gov  workclass_ Local-gov  workclass_ Never-worked  \\\n",
       "0                           0                     0                        0   \n",
       "1                           0                     0                        0   \n",
       "2                           0                     0                        0   \n",
       "3                           0                     0                        0   \n",
       "4                           0                     0                        0   \n",
       "...                       ...                   ...                      ...   \n",
       "32555                       0                     0                        0   \n",
       "32556                       0                     0                        0   \n",
       "32557                       0                     0                        0   \n",
       "32558                       0                     0                        0   \n",
       "32559                       0                     0                        0   \n",
       "\n",
       "       workclass_ Private  workclass_ Self-emp-inc  ...  \\\n",
       "0                       0                        0  ...   \n",
       "1                       1                        0  ...   \n",
       "2                       1                        0  ...   \n",
       "3                       1                        0  ...   \n",
       "4                       1                        0  ...   \n",
       "...                   ...                      ...  ...   \n",
       "32555                   1                        0  ...   \n",
       "32556                   1                        0  ...   \n",
       "32557                   1                        0  ...   \n",
       "32558                   1                        0  ...   \n",
       "32559                   0                        1  ...   \n",
       "\n",
       "       native-country_ Portugal  native-country_ Puerto-Rico  \\\n",
       "0                             0                            0   \n",
       "1                             0                            0   \n",
       "2                             0                            0   \n",
       "3                             0                            0   \n",
       "4                             0                            0   \n",
       "...                         ...                          ...   \n",
       "32555                         0                            0   \n",
       "32556                         0                            0   \n",
       "32557                         0                            0   \n",
       "32558                         0                            0   \n",
       "32559                         0                            0   \n",
       "\n",
       "       native-country_ Scotland  native-country_ South  \\\n",
       "0                             0                      0   \n",
       "1                             0                      0   \n",
       "2                             0                      0   \n",
       "3                             0                      0   \n",
       "4                             0                      0   \n",
       "...                         ...                    ...   \n",
       "32555                         0                      0   \n",
       "32556                         0                      0   \n",
       "32557                         0                      0   \n",
       "32558                         0                      0   \n",
       "32559                         0                      0   \n",
       "\n",
       "       native-country_ Taiwan  native-country_ Thailand  \\\n",
       "0                           0                         0   \n",
       "1                           0                         0   \n",
       "2                           0                         0   \n",
       "3                           0                         0   \n",
       "4                           0                         0   \n",
       "...                       ...                       ...   \n",
       "32555                       0                         0   \n",
       "32556                       0                         0   \n",
       "32557                       0                         0   \n",
       "32558                       0                         0   \n",
       "32559                       0                         0   \n",
       "\n",
       "       native-country_ Trinadad&Tobago  native-country_ United-States  \\\n",
       "0                                    0                              1   \n",
       "1                                    0                              1   \n",
       "2                                    0                              1   \n",
       "3                                    0                              0   \n",
       "4                                    0                              1   \n",
       "...                                ...                            ...   \n",
       "32555                                0                              1   \n",
       "32556                                0                              1   \n",
       "32557                                0                              1   \n",
       "32558                                0                              1   \n",
       "32559                                0                              1   \n",
       "\n",
       "       native-country_ Vietnam  native-country_ Yugoslavia  \n",
       "0                            0                           0  \n",
       "1                            0                           0  \n",
       "2                            0                           0  \n",
       "3                            0                           0  \n",
       "4                            0                           0  \n",
       "...                        ...                         ...  \n",
       "32555                        0                           0  \n",
       "32556                        0                           0  \n",
       "32557                        0                           0  \n",
       "32558                        0                           0  \n",
       "32559                        0                           0  \n",
       "\n",
       "[32560 rows x 106 columns]"
      ]
     },
     "execution_count": 167,
     "metadata": {},
     "output_type": "execute_result"
    }
   ],
   "source": [
    "# data = data.drop('workclass_ ?',axis=1)\n",
    "data"
   ]
  },
  {
   "cell_type": "markdown",
   "id": "a8297252-f63e-41f6-9bfe-2734f12120b3",
   "metadata": {},
   "source": [
    "### Transformation de la variable ***Target*** pour les niveaux \n",
    "* 1 : \">50K\" \n",
    "* 0 : \"<=50K\""
   ]
  },
  {
   "cell_type": "code",
   "execution_count": 168,
   "id": "872eb208-0191-4897-8019-7587b9eaa37a",
   "metadata": {},
   "outputs": [],
   "source": [
    "# data['target'] = data['target'].apply(lambda x : x.replace(x,0) if x==data['target'][0] else x.replace(x,1))\n",
    "data.loc[data['target']==data['target'][0],'target']=0\n",
    "data.loc[data['target']==data['target'][6],'target']=1"
   ]
  },
  {
   "cell_type": "code",
   "execution_count": 169,
   "id": "b1e7987d-62d6-4c7a-93ac-f865bc6830d2",
   "metadata": {},
   "outputs": [],
   "source": [
    "# data['target'] = data['target'].apply(lambda x :x.astype(int))"
   ]
  },
  {
   "cell_type": "code",
   "execution_count": 170,
   "id": "62ffa556-d84f-449d-badc-1222bb4a5b73",
   "metadata": {},
   "outputs": [],
   "source": [
    "data['target']=data['target'].astype(int)"
   ]
  },
  {
   "cell_type": "code",
   "execution_count": null,
   "id": "3ece7c13-dce5-4956-bf14-dd98ee18ee82",
   "metadata": {},
   "outputs": [],
   "source": []
  },
  {
   "cell_type": "markdown",
   "id": "14fd8f58-ab5b-4a39-ae4e-9669211fa477",
   "metadata": {},
   "source": [
    "## Importation des  librairies de Travail"
   ]
  },
  {
   "cell_type": "code",
   "execution_count": 171,
   "id": "43f5d58e-e044-4e32-8c4b-6f3c5f3fad34",
   "metadata": {},
   "outputs": [],
   "source": [
    "from sklearn.preprocessing import StandardScaler\n",
    "from sklearn.model_selection import train_test_split\n",
    "from sklearn.linear_model import LogisticRegression\n",
    "from sklearn.metrics import log_loss, roc_auc_score, recall_score, precision_score, average_precision_score, f1_score, classification_report, accuracy_score, plot_roc_curve, plot_precision_recall_curve, plot_confusion_matrix"
   ]
  },
  {
   "cell_type": "markdown",
   "id": "34aba624-cbdc-4ac8-a04e-699050fb1a7d",
   "metadata": {},
   "source": [
    "## Transformation  Des  Variables  Numeriques  "
   ]
  },
  {
   "cell_type": "code",
   "execution_count": 172,
   "id": "6d9e47fb-3ebf-4f93-a069-c02022c84231",
   "metadata": {},
   "outputs": [],
   "source": [
    "data_train , data_test = train_test_split(data,test_size=0.2,random_state=886,stratify=data['target'])"
   ]
  },
  {
   "cell_type": "code",
   "execution_count": 173,
   "id": "f905b605-4c7e-47bf-b922-889cc55ae9ec",
   "metadata": {},
   "outputs": [
    {
     "data": {
      "text/plain": [
       "StandardScaler()"
      ]
     },
     "execution_count": 173,
     "metadata": {},
     "output_type": "execute_result"
    }
   ],
   "source": [
    "scaler = StandardScaler()\n",
    "scaler.fit(data_train[num_data.columns])"
   ]
  },
  {
   "cell_type": "code",
   "execution_count": null,
   "id": "82164fa6-3c35-4710-a997-129d4cf01028",
   "metadata": {},
   "outputs": [],
   "source": []
  },
  {
   "cell_type": "code",
   "execution_count": 174,
   "id": "207ffbae-f064-42a6-ae44-a0c8dffb6f60",
   "metadata": {},
   "outputs": [
    {
     "data": {
      "text/plain": [
       "'\\nOn ecrit une fonction qui prend en parametre  le dataset le nom des colonnes categorielles et Numerique , et la fonction\\npermettant de ramener les donnees numeriques entre -1 et 1 \\n'"
      ]
     },
     "execution_count": 174,
     "metadata": {},
     "output_type": "execute_result"
    }
   ],
   "source": [
    "\"\"\"\n",
    "On ecrit une fonction qui prend en parametre  le dataset le nom des colonnes categorielles et Numerique , et la fonction\n",
    "permettant de ramener les donnees numeriques entre -1 et 1 \n",
    "\"\"\""
   ]
  },
  {
   "cell_type": "code",
   "execution_count": 175,
   "id": "830492c4-c03b-4bca-898b-4704ff6eeaad",
   "metadata": {},
   "outputs": [],
   "source": [
    "def Obtain_feature_and_target(df, numeric_cols, cat_cols, scaler):\n",
    "    X_numeric_scaled = scaler.transform(df[numeric_cols])\n",
    "    X_categorical = df[cat_cols].to_numpy()\n",
    "    X = np.hstack((X_categorical, X_numeric_scaled))\n",
    "    y = df['target']\n",
    "    return X, y"
   ]
  },
  {
   "cell_type": "code",
   "execution_count": 176,
   "id": "ef36351d-dd4a-4310-b5f6-f4d2d8134cb7",
   "metadata": {},
   "outputs": [],
   "source": [
    "cat_col = [col for col in cat_col if col!='target']\n",
    "data_cat =list(set(data.columns)-set(num_data.columns)-{'target'})\n"
   ]
  },
  {
   "cell_type": "code",
   "execution_count": 177,
   "id": "149b9290-9843-46ab-85b3-819697ba7b44",
   "metadata": {},
   "outputs": [],
   "source": [
    "Feature, targeT = Obtain_feature_and_target(data_train, num_data.columns, data_cat, scaler)"
   ]
  },
  {
   "cell_type": "code",
   "execution_count": 178,
   "id": "f76de9f7-1373-421e-ac64-739ffc015557",
   "metadata": {},
   "outputs": [
    {
     "data": {
      "text/plain": [
       "array([[ 0.        ,  0.        ,  0.        , ...,  0.26365769,\n",
       "        -0.42207371, -0.03681655],\n",
       "       [ 0.        ,  0.        ,  0.        , ..., -0.63015044,\n",
       "         1.13451357, -0.03681655],\n",
       "       [ 0.        ,  0.        ,  0.        , ..., -0.86310573,\n",
       "        -1.97866098, -0.03681655],\n",
       "       ...,\n",
       "       [ 0.        ,  0.        ,  0.        , ...,  1.23375007,\n",
       "        -0.42207371, -0.03681655],\n",
       "       [ 0.        ,  0.        ,  0.        , ..., -0.91114081,\n",
       "         0.35621993,  0.28859827],\n",
       "       [ 0.        ,  0.        ,  0.        , ..., -0.14003585,\n",
       "        -0.42207371, -0.03681655]])"
      ]
     },
     "execution_count": 178,
     "metadata": {},
     "output_type": "execute_result"
    }
   ],
   "source": [
    "Feature"
   ]
  },
  {
   "cell_type": "markdown",
   "id": "6c1e0421-192a-4413-8848-db878d1f4fb2",
   "metadata": {},
   "source": [
    "## ***Entrainement du model de Regression Logistique***\n",
    "\n",
    "### la variable cible etant Binaire et la majorite des attributs categorielles , il est logique de penser a un modele de regression logistique  "
   ]
  },
  {
   "cell_type": "code",
   "execution_count": 179,
   "id": "bdffd5a9-b10b-40a6-92dd-aae353493088",
   "metadata": {},
   "outputs": [
    {
     "name": "stderr",
     "output_type": "stream",
     "text": [
      "/home/valere/anaconda3/lib/python3.9/site-packages/sklearn/linear_model/_logistic.py:814: ConvergenceWarning: lbfgs failed to converge (status=1):\n",
      "STOP: TOTAL NO. of ITERATIONS REACHED LIMIT.\n",
      "\n",
      "Increase the number of iterations (max_iter) or scale the data as shown in:\n",
      "    https://scikit-learn.org/stable/modules/preprocessing.html\n",
      "Please also refer to the documentation for alternative solver options:\n",
      "    https://scikit-learn.org/stable/modules/linear_model.html#logistic-regression\n",
      "  n_iter_i = _check_optimize_result(\n"
     ]
    }
   ],
   "source": [
    "model = LogisticRegression(penalty='none')\n",
    "model = model.fit(Feature,targeT)"
   ]
  },
  {
   "cell_type": "code",
   "execution_count": 180,
   "id": "1220130e-3ba5-487b-a699-23bcdaa80688",
   "metadata": {},
   "outputs": [
    {
     "data": {
      "text/plain": [
       "LogisticRegression(penalty='none')"
      ]
     },
     "execution_count": 180,
     "metadata": {},
     "output_type": "execute_result"
    }
   ],
   "source": [
    "model"
   ]
  },
  {
   "cell_type": "markdown",
   "id": "1ffd7069-9a36-4cd7-b5b6-d4475741ed6d",
   "metadata": {},
   "source": [
    "## **Evaluation du Modele** "
   ]
  },
  {
   "cell_type": "code",
   "execution_count": 181,
   "id": "d20d3c72-b2a3-4f7b-bb28-631d65e63a1c",
   "metadata": {},
   "outputs": [],
   "source": [
    "X_test, y_test = Obtain_feature_and_target(data_test,num_data.columns, data_cat, scaler)"
   ]
  },
  {
   "cell_type": "markdown",
   "id": "80f7d523-10e5-4bc7-a07e-1c07bde1a530",
   "metadata": {},
   "source": [
    "## Courbe Roc"
   ]
  },
  {
   "cell_type": "code",
   "execution_count": 182,
   "id": "4ccbfd64-2440-4105-9c8b-bccceff4259a",
   "metadata": {},
   "outputs": [
    {
     "name": "stderr",
     "output_type": "stream",
     "text": [
      "/home/valere/anaconda3/lib/python3.9/site-packages/sklearn/utils/deprecation.py:87: FutureWarning: Function plot_roc_curve is deprecated; Function :func:`plot_roc_curve` is deprecated in 1.0 and will be removed in 1.2. Use one of the class methods: :meth:`sklearn.metric.RocCurveDisplay.from_predictions` or :meth:`sklearn.metric.RocCurveDisplay.from_estimator`.\n",
      "  warnings.warn(msg, category=FutureWarning)\n"
     ]
    },
    {
     "data": {
      "text/plain": [
       "<sklearn.metrics._plot.roc_curve.RocCurveDisplay at 0x7f40716e7880>"
      ]
     },
     "execution_count": 182,
     "metadata": {},
     "output_type": "execute_result"
    },
    {
     "data": {
      "image/png": "[encoded data removed]",
      "text/plain": [
       "<Figure size 432x288 with 1 Axes>"
      ]
     },
     "metadata": {
      "needs_background": "light"
     },
     "output_type": "display_data"
    }
   ],
   "source": [
    "plot_roc_curve(model,X_test,y_test)"
   ]
  },
  {
   "cell_type": "code",
   "execution_count": 183,
   "id": "a5e1031c-9d5c-411f-8107-067fc77d10fa",
   "metadata": {},
   "outputs": [],
   "source": [
    "test_prob = model.predict_proba(X_test)[:, 1]\n",
    "test_pred = model.predict(X_test)"
   ]
  },
  {
   "cell_type": "code",
   "execution_count": 184,
   "id": "a8d62a0a-9e8f-429a-aaa9-151c05d38ec2",
   "metadata": {},
   "outputs": [
    {
     "data": {
      "text/plain": [
       "array([1, 1, 1, ..., 0, 0, 0])"
      ]
     },
     "execution_count": 184,
     "metadata": {},
     "output_type": "execute_result"
    }
   ],
   "source": [
    "test_pred"
   ]
  },
  {
   "cell_type": "markdown",
   "id": "e35b54cf-e780-4f14-914d-f2a528662f7c",
   "metadata": {},
   "source": [
    "### Precision"
   ]
  },
  {
   "cell_type": "code",
   "execution_count": 185,
   "id": "3f734927-9a18-4fa0-8b4d-82c191df8a67",
   "metadata": {},
   "outputs": [
    {
     "data": {
      "text/plain": [
       "0.7014446227929374"
      ]
     },
     "execution_count": 185,
     "metadata": {},
     "output_type": "execute_result"
    }
   ],
   "source": [
    "precision_score(y_test,test_pred)"
   ]
  },
  {
   "cell_type": "markdown",
   "id": "d46df363-e6df-4403-b39c-bd5977113884",
   "metadata": {},
   "source": [
    "## Rappel "
   ]
  },
  {
   "cell_type": "code",
   "execution_count": 186,
   "id": "04e04ed3-8b6b-40da-826f-8879a3ce74c9",
   "metadata": {},
   "outputs": [
    {
     "data": {
      "text/plain": [
       "0.5573979591836735"
      ]
     },
     "execution_count": 186,
     "metadata": {},
     "output_type": "execute_result"
    }
   ],
   "source": [
    "recall_score(y_test,test_pred)"
   ]
  },
  {
   "cell_type": "markdown",
   "id": "d6a01ed6-c3a7-405c-b7dd-89abadfd6134",
   "metadata": {},
   "source": [
    "## ***le modele a une precision de 70,13% et un rappel de 55.86%***\n"
   ]
  },
  {
   "cell_type": "code",
   "execution_count": null,
   "id": "d8561fbe-9e18-4ed2-8480-c3a7e41f3082",
   "metadata": {},
   "outputs": [],
   "source": []
  },
  {
   "cell_type": "code",
   "execution_count": null,
   "id": "127e2c90-1641-4a86-8551-4815fd3b0aed",
   "metadata": {},
   "outputs": [],
   "source": []
  }
 ],
 "metadata": {
  "kernelspec": {
   "display_name": "Python 3 (ipykernel)",
   "language": "python",
   "name": "python3"
  },
  "language_info": {
   "codemirror_mode": {
    "name": "ipython",
    "version": 3
   },
   "file_extension": ".py",
   "mimetype": "text/x-python",
   "name": "python",
   "nbconvert_exporter": "python",
   "pygments_lexer": "ipython3",
   "version": "3.9.12"
  }
 },
 "nbformat": 4,
 "nbformat_minor": 5
}
